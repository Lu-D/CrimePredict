{
 "cells": [
  {
   "cell_type": "code",
   "execution_count": 88,
   "metadata": {
    "scrolled": true
   },
   "outputs": [
    {
     "data": {
      "application/vnd.jupyter.widget-view+json": {
       "model_id": "0a6a495fd4fa47c0827771714ba3d723",
       "version_major": 2,
       "version_minor": 0
      },
      "text/plain": [
       "Figure(layout=FigureLayout(height='420px'))"
      ]
     },
     "metadata": {},
     "output_type": "display_data"
    }
   ],
   "source": [
    "import pandas as pd\n",
    "import numpy as np\n",
    "import gmaps\n",
    "import gmaps.datasets\n",
    "\n",
    "crime= pd.read_csv(\"crime_data.csv\")\n",
    "crime.head()\n",
    "\n",
    "locations=crime[['Latitude', 'Longitude']]\n",
    "data = [tuple(x) for x in locations.values]\n",
    "# data = np.load('./minute.npy')\n",
    "seattle_coords = (47.6, -122.3)\n",
    "fig = gmaps.figure(center=seattle_coords, zoom_level=11)\n",
    "heatmap_layer = gmaps.Heatmap(locations=data)\n",
    "heatmap_layer.max_intensity = 100\n",
    "heatmap_layer.point_radius = 3\n",
    "fig.add_layer(heatmap_layer)\n",
    "fig"
   ]
  },
  {
   "cell_type": "code",
   "execution_count": 90,
   "metadata": {},
   "outputs": [
    {
     "data": {
      "application/vnd.jupyter.widget-view+json": {
       "model_id": "0189f9ad57d145ad994d7bb03aebf36f",
       "version_major": 2,
       "version_minor": 0
      },
      "text/plain": [
       "Figure(layout=FigureLayout(height='420px'))"
      ]
     },
     "metadata": {},
     "output_type": "display_data"
    }
   ],
   "source": [
    "import pandas as pd\n",
    "import numpy as np\n",
    "import gmaps\n",
    "import gmaps.datasets\n",
    "\n",
    "\n",
    "crime= pd.read_csv(\"crime_data.csv\")\n",
    "crime.head()\n",
    "\n",
    "# locations=crime[['Latitude', 'Longitude']]\n",
    "# data = [tuple(x) for x in locations.values]\n",
    "data = np.load('./minute.npy')\n",
    "seattle_coords = (47.6, -122.3)\n",
    "fig = gmaps.figure(center=seattle_coords, zoom_level=11)\n",
    "heatmap_layer = gmaps.Heatmap(locations=data)\n",
    "heatmap_layer.max_intensity = 30\n",
    "heatmap_layer.point_radius = 20\n",
    "fig.add_layer(heatmap_layer)\n",
    "fig"
   ]
  },
  {
   "cell_type": "code",
   "execution_count": 91,
   "metadata": {},
   "outputs": [
    {
     "data": {
      "application/vnd.jupyter.widget-view+json": {
       "model_id": "647116af67204d7c8c0e484d84527ba2",
       "version_major": 2,
       "version_minor": 0
      },
      "text/plain": [
       "Figure(layout=FigureLayout(height='420px'))"
      ]
     },
     "metadata": {},
     "output_type": "display_data"
    }
   ],
   "source": [
    "import pandas as pd\n",
    "import numpy as np\n",
    "import gmaps\n",
    "import gmaps.datasets\n",
    "\n",
    "crime= pd.read_csv(\"crime_data.csv\")\n",
    "crime.head()\n",
    "\n",
    "# locations=crime[['Latitude', 'Longitude']]\n",
    "# data = [tuple(x) for x in locations.values]\n",
    "data = np.load('./minute.npy')\n",
    "seattle_coords = (47.6, -122.3)\n",
    "fig = gmaps.figure(center=seattle_coords, zoom_level=11)\n",
    "heatmap_layer = gmaps.Heatmap(locations=data)\n",
    "heatmap_layer.max_intensity = 30\n",
    "heatmap_layer.point_radius = 20\n",
    "fig.add_layer(heatmap_layer)\n",
    "fig"
   ]
  },
  {
   "cell_type": "code",
   "execution_count": null,
   "metadata": {},
   "outputs": [],
   "source": []
  }
 ],
 "metadata": {
  "kernelspec": {
   "display_name": "Python 3",
   "language": "python",
   "name": "python3"
  },
  "language_info": {
   "codemirror_mode": {
    "name": "ipython",
    "version": 3
   },
   "file_extension": ".py",
   "mimetype": "text/x-python",
   "name": "python",
   "nbconvert_exporter": "python",
   "pygments_lexer": "ipython3",
   "version": "3.7.5"
  }
 },
 "nbformat": 4,
 "nbformat_minor": 4
}
